{
 "cells": [
  {
   "cell_type": "code",
   "execution_count": 1,
   "id": "a99ea1d8-8eca-46ee-b6d4-bac8ba12c0fc",
   "metadata": {},
   "outputs": [],
   "source": [
    "import pandas as pd\n",
    "import numpy as np\n",
    "import matplotlib.pyplot as plt\n",
    "import seaborn as sns"
   ]
  },
  {
   "cell_type": "code",
   "execution_count": 2,
   "id": "4249c7df-f4bd-454a-b162-4034a71db624",
   "metadata": {},
   "outputs": [],
   "source": [
    "df=pd.read_csv(\"C:/Users/MSI/Downloads/mlcourse/ads.csv\")"
   ]
  },
  {
   "cell_type": "code",
   "execution_count": 3,
   "id": "72e4cc3a-0f72-4dd5-bc7f-e700ef9c61b9",
   "metadata": {},
   "outputs": [
    {
     "data": {
      "text/html": [
       "<div>\n",
       "<style scoped>\n",
       "    .dataframe tbody tr th:only-of-type {\n",
       "        vertical-align: middle;\n",
       "    }\n",
       "\n",
       "    .dataframe tbody tr th {\n",
       "        vertical-align: top;\n",
       "    }\n",
       "\n",
       "    .dataframe thead th {\n",
       "        text-align: right;\n",
       "    }\n",
       "</style>\n",
       "<table border=\"1\" class=\"dataframe\">\n",
       "  <thead>\n",
       "    <tr style=\"text-align: right;\">\n",
       "      <th></th>\n",
       "      <th>Time</th>\n",
       "      <th>Ads</th>\n",
       "    </tr>\n",
       "  </thead>\n",
       "  <tbody>\n",
       "    <tr>\n",
       "      <th>0</th>\n",
       "      <td>2017-09-13T00:00:00</td>\n",
       "      <td>80115</td>\n",
       "    </tr>\n",
       "    <tr>\n",
       "      <th>1</th>\n",
       "      <td>2017-09-13T01:00:00</td>\n",
       "      <td>79885</td>\n",
       "    </tr>\n",
       "    <tr>\n",
       "      <th>2</th>\n",
       "      <td>2017-09-13T02:00:00</td>\n",
       "      <td>89325</td>\n",
       "    </tr>\n",
       "    <tr>\n",
       "      <th>3</th>\n",
       "      <td>2017-09-13T03:00:00</td>\n",
       "      <td>101930</td>\n",
       "    </tr>\n",
       "    <tr>\n",
       "      <th>4</th>\n",
       "      <td>2017-09-13T04:00:00</td>\n",
       "      <td>121630</td>\n",
       "    </tr>\n",
       "  </tbody>\n",
       "</table>\n",
       "</div>"
      ],
      "text/plain": [
       "                  Time     Ads\n",
       "0  2017-09-13T00:00:00   80115\n",
       "1  2017-09-13T01:00:00   79885\n",
       "2  2017-09-13T02:00:00   89325\n",
       "3  2017-09-13T03:00:00  101930\n",
       "4  2017-09-13T04:00:00  121630"
      ]
     },
     "execution_count": 3,
     "metadata": {},
     "output_type": "execute_result"
    }
   ],
   "source": [
    "df.head()"
   ]
  },
  {
   "cell_type": "code",
   "execution_count": 4,
   "id": "72a4837e-6b25-4414-8910-20834f5974cd",
   "metadata": {},
   "outputs": [
    {
     "data": {
      "text/html": [
       "<div>\n",
       "<style scoped>\n",
       "    .dataframe tbody tr th:only-of-type {\n",
       "        vertical-align: middle;\n",
       "    }\n",
       "\n",
       "    .dataframe tbody tr th {\n",
       "        vertical-align: top;\n",
       "    }\n",
       "\n",
       "    .dataframe thead th {\n",
       "        text-align: right;\n",
       "    }\n",
       "</style>\n",
       "<table border=\"1\" class=\"dataframe\">\n",
       "  <thead>\n",
       "    <tr style=\"text-align: right;\">\n",
       "      <th></th>\n",
       "      <th>Time</th>\n",
       "      <th>Ads</th>\n",
       "    </tr>\n",
       "  </thead>\n",
       "  <tbody>\n",
       "    <tr>\n",
       "      <th>211</th>\n",
       "      <td>2017-09-21T19:00:00</td>\n",
       "      <td>155890</td>\n",
       "    </tr>\n",
       "    <tr>\n",
       "      <th>212</th>\n",
       "      <td>2017-09-21T20:00:00</td>\n",
       "      <td>123395</td>\n",
       "    </tr>\n",
       "    <tr>\n",
       "      <th>213</th>\n",
       "      <td>2017-09-21T21:00:00</td>\n",
       "      <td>103080</td>\n",
       "    </tr>\n",
       "    <tr>\n",
       "      <th>214</th>\n",
       "      <td>2017-09-21T22:00:00</td>\n",
       "      <td>95155</td>\n",
       "    </tr>\n",
       "    <tr>\n",
       "      <th>215</th>\n",
       "      <td>2017-09-21T23:00:00</td>\n",
       "      <td>80285</td>\n",
       "    </tr>\n",
       "  </tbody>\n",
       "</table>\n",
       "</div>"
      ],
      "text/plain": [
       "                    Time     Ads\n",
       "211  2017-09-21T19:00:00  155890\n",
       "212  2017-09-21T20:00:00  123395\n",
       "213  2017-09-21T21:00:00  103080\n",
       "214  2017-09-21T22:00:00   95155\n",
       "215  2017-09-21T23:00:00   80285"
      ]
     },
     "execution_count": 4,
     "metadata": {},
     "output_type": "execute_result"
    }
   ],
   "source": [
    "df.tail()"
   ]
  },
  {
   "cell_type": "code",
   "execution_count": 5,
   "id": "8628f1b5-d7f7-4270-8665-2cb1026b9c1b",
   "metadata": {},
   "outputs": [
    {
     "data": {
      "text/html": [
       "<div>\n",
       "<style scoped>\n",
       "    .dataframe tbody tr th:only-of-type {\n",
       "        vertical-align: middle;\n",
       "    }\n",
       "\n",
       "    .dataframe tbody tr th {\n",
       "        vertical-align: top;\n",
       "    }\n",
       "\n",
       "    .dataframe thead th {\n",
       "        text-align: right;\n",
       "    }\n",
       "</style>\n",
       "<table border=\"1\" class=\"dataframe\">\n",
       "  <thead>\n",
       "    <tr style=\"text-align: right;\">\n",
       "      <th></th>\n",
       "      <th>Time</th>\n",
       "      <th>Ads</th>\n",
       "    </tr>\n",
       "  </thead>\n",
       "  <tbody>\n",
       "    <tr>\n",
       "      <th>164</th>\n",
       "      <td>2017-09-19T20:00:00</td>\n",
       "      <td>134090</td>\n",
       "    </tr>\n",
       "  </tbody>\n",
       "</table>\n",
       "</div>"
      ],
      "text/plain": [
       "                    Time     Ads\n",
       "164  2017-09-19T20:00:00  134090"
      ]
     },
     "execution_count": 5,
     "metadata": {},
     "output_type": "execute_result"
    }
   ],
   "source": [
    "df.sample()"
   ]
  },
  {
   "cell_type": "code",
   "execution_count": 6,
   "id": "d014723d-6afb-42ba-89b0-fcde21d49651",
   "metadata": {},
   "outputs": [
    {
     "data": {
      "text/html": [
       "<div>\n",
       "<style scoped>\n",
       "    .dataframe tbody tr th:only-of-type {\n",
       "        vertical-align: middle;\n",
       "    }\n",
       "\n",
       "    .dataframe tbody tr th {\n",
       "        vertical-align: top;\n",
       "    }\n",
       "\n",
       "    .dataframe thead th {\n",
       "        text-align: right;\n",
       "    }\n",
       "</style>\n",
       "<table border=\"1\" class=\"dataframe\">\n",
       "  <thead>\n",
       "    <tr style=\"text-align: right;\">\n",
       "      <th></th>\n",
       "      <th>Time</th>\n",
       "      <th>Ads</th>\n",
       "    </tr>\n",
       "  </thead>\n",
       "  <tbody>\n",
       "    <tr>\n",
       "      <th>107</th>\n",
       "      <td>2017-09-17T11:00:00</td>\n",
       "      <td>161110</td>\n",
       "    </tr>\n",
       "    <tr>\n",
       "      <th>9</th>\n",
       "      <td>2017-09-13T09:00:00</td>\n",
       "      <td>116125</td>\n",
       "    </tr>\n",
       "    <tr>\n",
       "      <th>211</th>\n",
       "      <td>2017-09-21T19:00:00</td>\n",
       "      <td>155890</td>\n",
       "    </tr>\n",
       "    <tr>\n",
       "      <th>69</th>\n",
       "      <td>2017-09-15T21:00:00</td>\n",
       "      <td>112945</td>\n",
       "    </tr>\n",
       "  </tbody>\n",
       "</table>\n",
       "</div>"
      ],
      "text/plain": [
       "                    Time     Ads\n",
       "107  2017-09-17T11:00:00  161110\n",
       "9    2017-09-13T09:00:00  116125\n",
       "211  2017-09-21T19:00:00  155890\n",
       "69   2017-09-15T21:00:00  112945"
      ]
     },
     "execution_count": 6,
     "metadata": {},
     "output_type": "execute_result"
    }
   ],
   "source": [
    "df.sample(4)"
   ]
  },
  {
   "cell_type": "code",
   "execution_count": 7,
   "id": "96b80574-56ad-4581-b6d3-4b54b0d8fb1f",
   "metadata": {},
   "outputs": [
    {
     "data": {
      "text/plain": [
       "(216, 2)"
      ]
     },
     "execution_count": 7,
     "metadata": {},
     "output_type": "execute_result"
    }
   ],
   "source": [
    "df.shape"
   ]
  },
  {
   "cell_type": "code",
   "execution_count": 8,
   "id": "bd634e67-4830-4858-a9ed-4a47804254f6",
   "metadata": {},
   "outputs": [
    {
     "data": {
      "text/plain": [
       "2"
      ]
     },
     "execution_count": 8,
     "metadata": {},
     "output_type": "execute_result"
    }
   ],
   "source": [
    "df.ndim"
   ]
  },
  {
   "cell_type": "code",
   "execution_count": 9,
   "id": "3c7a2a8f-f531-4d6a-ae8e-9302c138eb88",
   "metadata": {},
   "outputs": [
    {
     "name": "stdout",
     "output_type": "stream",
     "text": [
      "<class 'pandas.core.frame.DataFrame'>\n",
      "RangeIndex: 216 entries, 0 to 215\n",
      "Data columns (total 2 columns):\n",
      " #   Column  Non-Null Count  Dtype \n",
      "---  ------  --------------  ----- \n",
      " 0   Time    216 non-null    object\n",
      " 1   Ads     216 non-null    int64 \n",
      "dtypes: int64(1), object(1)\n",
      "memory usage: 3.5+ KB\n"
     ]
    }
   ],
   "source": [
    "df.info()"
   ]
  },
  {
   "cell_type": "code",
   "execution_count": 10,
   "id": "cb107706-6900-4975-be17-70e1de1a8e1c",
   "metadata": {},
   "outputs": [
    {
     "data": {
      "text/html": [
       "<div>\n",
       "<style scoped>\n",
       "    .dataframe tbody tr th:only-of-type {\n",
       "        vertical-align: middle;\n",
       "    }\n",
       "\n",
       "    .dataframe tbody tr th {\n",
       "        vertical-align: top;\n",
       "    }\n",
       "\n",
       "    .dataframe thead th {\n",
       "        text-align: right;\n",
       "    }\n",
       "</style>\n",
       "<table border=\"1\" class=\"dataframe\">\n",
       "  <thead>\n",
       "    <tr style=\"text-align: right;\">\n",
       "      <th></th>\n",
       "      <th>Ads</th>\n",
       "    </tr>\n",
       "  </thead>\n",
       "  <tbody>\n",
       "    <tr>\n",
       "      <th>count</th>\n",
       "      <td>216.000000</td>\n",
       "    </tr>\n",
       "    <tr>\n",
       "      <th>mean</th>\n",
       "      <td>121974.050926</td>\n",
       "    </tr>\n",
       "    <tr>\n",
       "      <th>std</th>\n",
       "      <td>27259.406772</td>\n",
       "    </tr>\n",
       "    <tr>\n",
       "      <th>min</th>\n",
       "      <td>70335.000000</td>\n",
       "    </tr>\n",
       "    <tr>\n",
       "      <th>25%</th>\n",
       "      <td>98717.500000</td>\n",
       "    </tr>\n",
       "    <tr>\n",
       "      <th>50%</th>\n",
       "      <td>122652.500000</td>\n",
       "    </tr>\n",
       "    <tr>\n",
       "      <th>75%</th>\n",
       "      <td>146691.250000</td>\n",
       "    </tr>\n",
       "    <tr>\n",
       "      <th>max</th>\n",
       "      <td>169900.000000</td>\n",
       "    </tr>\n",
       "  </tbody>\n",
       "</table>\n",
       "</div>"
      ],
      "text/plain": [
       "                 Ads\n",
       "count     216.000000\n",
       "mean   121974.050926\n",
       "std     27259.406772\n",
       "min     70335.000000\n",
       "25%     98717.500000\n",
       "50%    122652.500000\n",
       "75%    146691.250000\n",
       "max    169900.000000"
      ]
     },
     "execution_count": 10,
     "metadata": {},
     "output_type": "execute_result"
    }
   ],
   "source": [
    "df.describe()"
   ]
  },
  {
   "cell_type": "code",
   "execution_count": 11,
   "id": "60913694-2a07-4074-80ee-1c4b08cc581a",
   "metadata": {},
   "outputs": [
    {
     "data": {
      "text/html": [
       "<div>\n",
       "<style scoped>\n",
       "    .dataframe tbody tr th:only-of-type {\n",
       "        vertical-align: middle;\n",
       "    }\n",
       "\n",
       "    .dataframe tbody tr th {\n",
       "        vertical-align: top;\n",
       "    }\n",
       "\n",
       "    .dataframe thead th {\n",
       "        text-align: right;\n",
       "    }\n",
       "</style>\n",
       "<table border=\"1\" class=\"dataframe\">\n",
       "  <thead>\n",
       "    <tr style=\"text-align: right;\">\n",
       "      <th></th>\n",
       "      <th>Time</th>\n",
       "      <th>Ads</th>\n",
       "    </tr>\n",
       "  </thead>\n",
       "  <tbody>\n",
       "    <tr>\n",
       "      <th>0</th>\n",
       "      <td>False</td>\n",
       "      <td>False</td>\n",
       "    </tr>\n",
       "    <tr>\n",
       "      <th>1</th>\n",
       "      <td>False</td>\n",
       "      <td>False</td>\n",
       "    </tr>\n",
       "    <tr>\n",
       "      <th>2</th>\n",
       "      <td>False</td>\n",
       "      <td>False</td>\n",
       "    </tr>\n",
       "    <tr>\n",
       "      <th>3</th>\n",
       "      <td>False</td>\n",
       "      <td>False</td>\n",
       "    </tr>\n",
       "    <tr>\n",
       "      <th>4</th>\n",
       "      <td>False</td>\n",
       "      <td>False</td>\n",
       "    </tr>\n",
       "    <tr>\n",
       "      <th>...</th>\n",
       "      <td>...</td>\n",
       "      <td>...</td>\n",
       "    </tr>\n",
       "    <tr>\n",
       "      <th>211</th>\n",
       "      <td>False</td>\n",
       "      <td>False</td>\n",
       "    </tr>\n",
       "    <tr>\n",
       "      <th>212</th>\n",
       "      <td>False</td>\n",
       "      <td>False</td>\n",
       "    </tr>\n",
       "    <tr>\n",
       "      <th>213</th>\n",
       "      <td>False</td>\n",
       "      <td>False</td>\n",
       "    </tr>\n",
       "    <tr>\n",
       "      <th>214</th>\n",
       "      <td>False</td>\n",
       "      <td>False</td>\n",
       "    </tr>\n",
       "    <tr>\n",
       "      <th>215</th>\n",
       "      <td>False</td>\n",
       "      <td>False</td>\n",
       "    </tr>\n",
       "  </tbody>\n",
       "</table>\n",
       "<p>216 rows × 2 columns</p>\n",
       "</div>"
      ],
      "text/plain": [
       "      Time    Ads\n",
       "0    False  False\n",
       "1    False  False\n",
       "2    False  False\n",
       "3    False  False\n",
       "4    False  False\n",
       "..     ...    ...\n",
       "211  False  False\n",
       "212  False  False\n",
       "213  False  False\n",
       "214  False  False\n",
       "215  False  False\n",
       "\n",
       "[216 rows x 2 columns]"
      ]
     },
     "execution_count": 11,
     "metadata": {},
     "output_type": "execute_result"
    }
   ],
   "source": [
    "df.isnull()"
   ]
  },
  {
   "cell_type": "code",
   "execution_count": 12,
   "id": "99ee5f59-8777-4f5d-97d9-e949930043b1",
   "metadata": {},
   "outputs": [
    {
     "data": {
      "text/plain": [
       "Time    0\n",
       "Ads     0\n",
       "dtype: int64"
      ]
     },
     "execution_count": 12,
     "metadata": {},
     "output_type": "execute_result"
    }
   ],
   "source": [
    "df.isnull().sum()"
   ]
  },
  {
   "cell_type": "code",
   "execution_count": 13,
   "id": "bf07b882-4b57-4274-9511-085a5c15aa96",
   "metadata": {},
   "outputs": [
    {
     "data": {
      "text/plain": [
       "np.int64(0)"
      ]
     },
     "execution_count": 13,
     "metadata": {},
     "output_type": "execute_result"
    }
   ],
   "source": [
    "df.isnull().sum().sum()"
   ]
  },
  {
   "cell_type": "code",
   "execution_count": 14,
   "id": "204b27d1-527a-4577-884c-28a36aa1cc87",
   "metadata": {},
   "outputs": [
    {
     "data": {
      "text/plain": [
       "Index(['Time', 'Ads'], dtype='object')"
      ]
     },
     "execution_count": 14,
     "metadata": {},
     "output_type": "execute_result"
    }
   ],
   "source": [
    "df.columns"
   ]
  },
  {
   "cell_type": "code",
   "execution_count": 15,
   "id": "7937df64-b575-4ec2-8cd0-6140c902756a",
   "metadata": {},
   "outputs": [
    {
     "data": {
      "text/plain": [
       "Time    False\n",
       "Ads     False\n",
       "dtype: bool"
      ]
     },
     "execution_count": 15,
     "metadata": {},
     "output_type": "execute_result"
    }
   ],
   "source": [
    "df.isnull().any()"
   ]
  },
  {
   "cell_type": "code",
   "execution_count": 16,
   "id": "e5a6f262-6aca-42fd-93f1-624b2d8b2390",
   "metadata": {},
   "outputs": [
    {
     "data": {
      "text/plain": [
       "Time    216\n",
       "Ads     212\n",
       "dtype: int64"
      ]
     },
     "execution_count": 16,
     "metadata": {},
     "output_type": "execute_result"
    }
   ],
   "source": [
    "df.nunique()"
   ]
  },
  {
   "cell_type": "code",
   "execution_count": 17,
   "id": "b95f9c7f-16a8-462d-b9b5-91dd68dfbaef",
   "metadata": {},
   "outputs": [
    {
     "data": {
      "text/plain": [
       "0       80115\n",
       "1       79885\n",
       "2       89325\n",
       "3      101930\n",
       "4      121630\n",
       "        ...  \n",
       "211    155890\n",
       "212    123395\n",
       "213    103080\n",
       "214     95155\n",
       "215     80285\n",
       "Name: Ads, Length: 216, dtype: int64"
      ]
     },
     "execution_count": 17,
     "metadata": {},
     "output_type": "execute_result"
    }
   ],
   "source": [
    "df.Ads"
   ]
  },
  {
   "cell_type": "code",
   "execution_count": 18,
   "id": "67c85105-1a01-46e7-9d50-3e779c24ab4d",
   "metadata": {},
   "outputs": [
    {
     "data": {
      "text/plain": [
       "array([ 80115,  79885,  89325, 101930, 121630, 116475, 106495, 102795,\n",
       "       108055, 116125, 131030, 149020, 157590, 150715, 149295, 150100,\n",
       "       144780, 150690, 163840, 166235, 139520, 105895,  96780,  82520,\n",
       "        80125,  75335,  85105, 102080, 125135, 118030, 109225, 102475,\n",
       "       102240, 115840, 130540, 144325, 148970, 149150, 148040, 148810,\n",
       "       149830, 150570, 149440, 150520, 129130, 103815,  92175,  82765,\n",
       "        76315,  75130,  82640,  88795, 118430, 115190, 110940,  98860,\n",
       "       104185, 108665, 126640, 140435, 152470, 146275, 148020, 147735,\n",
       "       145750, 149285, 159725, 161085, 135520, 112945, 100200,  87615,\n",
       "        87835,  88845,  92350, 104465, 115940, 128950, 141385, 144440,\n",
       "       143250, 133190, 131240, 142480, 157375, 152500, 153735, 151195,\n",
       "       150645, 147435, 152525, 146875, 125245, 117925,  96700,  93610,\n",
       "        89060,  89345,  90575,  98290, 112570, 129470, 141405, 152560,\n",
       "       152580, 141170, 147550, 161110, 166335, 166780, 163140, 157305,\n",
       "       159055, 160020, 168345, 169900, 142710, 112955,  97345,  81675,\n",
       "        79510,  78350,  88045,  99790, 123780, 111325,  99440,  97655,\n",
       "       102565, 119930, 135755, 140120, 141730, 142220, 145360, 145335,\n",
       "       150410, 161520, 153415, 134720, 107065,  95045,  79515,  78335,\n",
       "        74670,  81990,  97950, 119345, 113115,  98880,  94000,  93660,\n",
       "       119750, 135990, 146455, 139165, 147225, 144935, 151370, 156080,\n",
       "       161385, 165010, 134090, 105585,  92855,  79270,  79980,  78110,\n",
       "        85785, 100010, 123880, 116335, 104290, 101440,  97635, 108265,\n",
       "       121250, 140850, 138555, 140990, 141525, 141590, 140610, 139515,\n",
       "       146215, 142425, 123945, 101360,  88170,  76050,  70335,  72150,\n",
       "        80195,  94945, 121910, 113950,  97290, 105635, 114380, 132335,\n",
       "       146630, 141995, 142815, 146020, 152120, 151790, 155665, 155890,\n",
       "       123395, 103080,  95155,  80285])"
      ]
     },
     "execution_count": 18,
     "metadata": {},
     "output_type": "execute_result"
    }
   ],
   "source": [
    "df['Ads'].unique()"
   ]
  },
  {
   "cell_type": "code",
   "execution_count": 19,
   "id": "d3446234-f485-44b1-828a-32befd33dd25",
   "metadata": {},
   "outputs": [
    {
     "data": {
      "text/plain": [
       "212"
      ]
     },
     "execution_count": 19,
     "metadata": {},
     "output_type": "execute_result"
    }
   ],
   "source": [
    "df['Ads'].nunique()"
   ]
  },
  {
   "cell_type": "code",
   "execution_count": 20,
   "id": "6c20d305-be20-4d92-89ed-209aaa93be4f",
   "metadata": {},
   "outputs": [
    {
     "data": {
      "text/plain": [
       "Time    2017-09-13T03:00:00\n",
       "Ads                  101930\n",
       "Name: 3, dtype: object"
      ]
     },
     "execution_count": 20,
     "metadata": {},
     "output_type": "execute_result"
    }
   ],
   "source": [
    "df.loc[3]"
   ]
  },
  {
   "cell_type": "code",
   "execution_count": 34,
   "id": "8d7a60b2-00c3-47f6-a373-0fb5540c613b",
   "metadata": {},
   "outputs": [],
   "source": [
    "from sklearn.preprocessing import StandardScaler, LabelEncoder\n",
    "from sklearn.model_selection import train_test_split\n",
    "df.columns = df.columns.str.strip()\n",
    "X=df.iloc[:,:-1]\n",
    "y=df.iloc[:,-1]\n",
    "y = LabelEncoder().fit_transform(y)\n",
    "X = X.apply(lambda col: LabelEncoder().fit_transform(col))\n",
    "X_train, X_test, y_train, y_test = train_test_split(X, y, test_size=0.2, random_state=42)"
   ]
  },
  {
   "cell_type": "code",
   "execution_count": 23,
   "id": "f85a2a38-2ebc-4710-81d2-5bfe329a69e1",
   "metadata": {},
   "outputs": [
    {
     "name": "stdout",
     "output_type": "stream",
     "text": [
      "        Ads                 Time\n",
      "0 -1.539149  2017-09-13T00:00:00\n",
      "1 -1.547606  2017-09-13T01:00:00\n",
      "2 -1.200499  2017-09-13T02:00:00\n",
      "3 -0.737016  2017-09-13T03:00:00\n",
      "4 -0.012651  2017-09-13T04:00:00\n",
      "(216, 1)\n",
      "\n",
      "************************************************************\n",
      "        Ads\n",
      "0 -1.539149\n",
      "1 -1.547606\n",
      "2 -1.200499\n",
      "3 -0.737016\n",
      "4 -0.012651\n"
     ]
    }
   ],
   "source": [
    "from sklearn.preprocessing import StandardScaler\n",
    "numeric_cols = df.select_dtypes(include=[np.number])\n",
    "non_numeric_cols = df.select_dtypes(exclude=[np.number])\n",
    "scaler = StandardScaler()\n",
    "scaled_numeric_data = scaler.fit_transform(numeric_cols) \n",
    "scaled_numeric_df = pd.DataFrame(scaled_numeric_data, columns=numeric_cols.columns)\n",
    "final_df = pd.concat([scaled_numeric_df, non_numeric_cols.reset_index(drop=True)], axis=1)\n",
    "print(final_df.head())\n",
    "print(scaled_numeric_df.shape)\n",
    "print()\n",
    "print('*' * 60)\n",
    "print(scaled_numeric_df.head())"
   ]
  },
  {
   "cell_type": "code",
   "execution_count": 24,
   "id": "06725863-3fa5-4d84-a0fd-f534f52e91e4",
   "metadata": {},
   "outputs": [
    {
     "name": "stdout",
     "output_type": "stream",
     "text": [
      "(216, 2)\n",
      "\n",
      "************************************************************\n",
      "        Ads                 Time\n",
      "0  0.098227  2017-09-13T00:00:00\n",
      "1  0.095917  2017-09-13T01:00:00\n",
      "2  0.190730  2017-09-13T02:00:00\n",
      "3  0.317330  2017-09-13T03:00:00\n",
      "4  0.515191  2017-09-13T04:00:00\n"
     ]
    }
   ],
   "source": [
    "from sklearn.preprocessing import MinMaxScaler\n",
    "scaler = MinMaxScaler()\n",
    "scaled_numeric_data = scaler.fit_transform(numeric_cols)\n",
    "# Convert the scaled data back into DataFrame\n",
    "scaled_numeric_df = pd.DataFrame(scaled_numeric_data, columns=numeric_cols.columns)\n",
    "# Combine the scaled numeric and original non-numeric columns (if needed)\n",
    "scaled_data = pd.concat([scaled_numeric_df, non_numeric_cols.reset_index(drop=True)], axis=1)\n",
    "# Show the shape and first few rows\n",
    "print(scaled_data.shape)\n",
    "print()\n",
    "print('*' * 60)\n",
    "print(scaled_data.head())"
   ]
  },
  {
   "cell_type": "code",
   "execution_count": null,
   "id": "347c1f5d-1c30-4ab1-8e5b-830820dfc301",
   "metadata": {},
   "outputs": [],
   "source": []
  },
  {
   "cell_type": "markdown",
   "id": "f415c10d-3e67-48cc-ba8b-048eaa0fa9f0",
   "metadata": {},
   "source": []
  }
 ],
 "metadata": {
  "kernelspec": {
   "display_name": "Python 3 (ipykernel)",
   "language": "python",
   "name": "python3"
  },
  "language_info": {
   "codemirror_mode": {
    "name": "ipython",
    "version": 3
   },
   "file_extension": ".py",
   "mimetype": "text/x-python",
   "name": "python",
   "nbconvert_exporter": "python",
   "pygments_lexer": "ipython3",
   "version": "3.12.7"
  }
 },
 "nbformat": 4,
 "nbformat_minor": 5
}
